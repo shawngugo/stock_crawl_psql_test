{
 "cells": [
  {
   "cell_type": "code",
   "execution_count": 21,
   "metadata": {},
   "outputs": [],
   "source": [
    "import io  \n",
    "import os  \n",
    "import sys  \n",
    "import urllib  \n",
    "from urllib.request import  urlopen  \n",
    "from urllib  import request  \n",
    "from bs4 import BeautifulSoup  \n",
    "import re  \n",
    "import requests \n",
    "import pandas as pd"
   ]
  },
  {
   "cell_type": "markdown",
   "metadata": {},
   "source": [
    "### 股票數據: 利用 python pandas_datareader庫"
   ]
  },
  {
   "cell_type": "code",
   "execution_count": 17,
   "metadata": {},
   "outputs": [],
   "source": [
    "#Import packages\n",
    "import pandas_datareader.data as web\n",
    "import matplotlib.pyplot as plt\n",
    "import fix_yahoo_finance"
   ]
  },
  {
   "cell_type": "code",
   "execution_count": 28,
   "metadata": {},
   "outputs": [
    {
     "name": "stdout",
     "output_type": "stream",
     "text": [
      "5y\n"
     ]
    },
    {
     "data": {
      "text/plain": [
       "(1007, 5)"
      ]
     },
     "execution_count": 28,
     "metadata": {},
     "output_type": "execute_result"
    }
   ],
   "source": [
    "#Load IBM Stock Data\n",
    "data = web.DataReader(\"IBM\",'iex', start=\"2014-01-01\", end=\"2018-01-01\")\n",
    "data = pd.DataFrame(data)\n",
    "data.shape"
   ]
  },
  {
   "cell_type": "code",
   "execution_count": 21,
   "metadata": {},
   "outputs": [
    {
     "name": "stdout",
     "output_type": "stream",
     "text": [
      "<class 'pandas.core.frame.DataFrame'>\n",
      "Index: 1007 entries, 2014-01-02 to 2017-12-29\n",
      "Data columns (total 5 columns):\n",
      "open      1007 non-null float64\n",
      "high      1007 non-null float64\n",
      "low       1007 non-null float64\n",
      "close     1007 non-null float64\n",
      "volume    1007 non-null int64\n",
      "dtypes: float64(4), int64(1)\n",
      "memory usage: 47.2+ KB\n"
     ]
    }
   ],
   "source": [
    "data.info()"
   ]
  },
  {
   "cell_type": "code",
   "execution_count": 29,
   "metadata": {},
   "outputs": [
    {
     "data": {
      "text/plain": [
       "<matplotlib.axes._subplots.AxesSubplot at 0x114328400>"
      ]
     },
     "execution_count": 29,
     "metadata": {},
     "output_type": "execute_result"
    },
    {
     "data": {
      "image/png": "[encoded data removed]",
      "text/plain": [
       "<matplotlib.figure.Figure at 0x115752e10>"
      ]
     },
     "metadata": {},
     "output_type": "display_data"
    }
   ],
   "source": [
    "data['close'].plot(figsize=(8, 5))"
   ]
  },
  {
   "cell_type": "markdown",
   "metadata": {},
   "source": [
    "### 股票數據: 利用tushare庫(http://tushare.org/index.html)"
   ]
  },
  {
   "cell_type": "code",
   "execution_count": 6,
   "metadata": {},
   "outputs": [
    {
     "name": "stdout",
     "output_type": "stream",
     "text": [
      "1.1.7\n"
     ]
    }
   ],
   "source": [
    "import tushare as ts\n",
    "\n",
    "print(tushare.__version__)"
   ]
  },
  {
   "cell_type": "code",
   "execution_count": 9,
   "metadata": {},
   "outputs": [],
   "source": [
    "basics = ts.get_stock_basics()"
   ]
  },
  {
   "cell_type": "code",
   "execution_count": 17,
   "metadata": {
    "scrolled": true
   },
   "outputs": [
    {
     "data": {
      "text/plain": [
       "name                    日出东方\n",
       "industry                家用电器\n",
       "area                      江苏\n",
       "pe                         0\n",
       "outstanding                8\n",
       "totals                     8\n",
       "totalAssets           598558\n",
       "liquidAssets          200217\n",
       "fixedAssets           122074\n",
       "reserved              180837\n",
       "reservedPerShare        2.26\n",
       "esp                   -0.021\n",
       "bvps                    4.45\n",
       "pb                      1.51\n",
       "timeToMarket        20120521\n",
       "undp                 75334.1\n",
       "perundp                 0.94\n",
       "rev                    60.25\n",
       "profit               -200.95\n",
       "gpr                    38.82\n",
       "npr                    -2.76\n",
       "holders                40561\n",
       "Name: 603366, dtype: object"
      ]
     },
     "execution_count": 17,
     "metadata": {},
     "output_type": "execute_result"
    }
   ],
   "source": [
    "# 挑一擋股票分析：日出东方\n",
    "basics.loc['603366']"
   ]
  },
  {
   "cell_type": "code",
   "execution_count": 4,
   "metadata": {},
   "outputs": [
    {
     "ename": "NameError",
     "evalue": "name 'Uqer' is not defined",
     "output_type": "error",
     "traceback": [
      "\u001b[0;31m---------------------------------------------------------------------------\u001b[0m",
      "\u001b[0;31mNameError\u001b[0m                                 Traceback (most recent call last)",
      "\u001b[0;32m<ipython-input-4-7382bf64be91>\u001b[0m in \u001b[0;36m<module>\u001b[0;34m()\u001b[0m\n\u001b[0;32m----> 1\u001b[0;31m \u001b[0mUqer\u001b[0m\u001b[0;34m.\u001b[0m\u001b[0mio\u001b[0m\u001b[0;34m\u001b[0m\u001b[0m\n\u001b[0m\u001b[1;32m      2\u001b[0m \u001b[0mRiceQuant\u001b[0m\u001b[0;34m\u001b[0m\u001b[0m\n\u001b[1;32m      3\u001b[0m \u001b[0mJoinQuant\u001b[0m\u001b[0;34m\u001b[0m\u001b[0m\n\u001b[1;32m      4\u001b[0m \u001b[0mMindgo\u001b[0m\u001b[0;34m\u001b[0m\u001b[0m\n\u001b[1;32m      5\u001b[0m \u001b[0mBigQuant\u001b[0m\u001b[0;34m\u001b[0m\u001b[0m\n",
      "\u001b[0;31mNameError\u001b[0m: name 'Uqer' is not defined"
     ]
    }
   ],
   "source": [
    "Uqer.io\n",
    "RiceQuant\n",
    "JoinQuant\n",
    "Mindgo\n",
    "BigQuant"
   ]
  },
  {
   "cell_type": "code",
   "execution_count": null,
   "metadata": {},
   "outputs": [],
   "source": [
    "### 互聯網上搜集tushare可搜集範圍外的資料"
   ]
  },
  {
   "cell_type": "code",
   "execution_count": 54,
   "metadata": {},
   "outputs": [],
   "source": [
    "interest_url = \"http://search.sina.com.cn/?q=%C8%D5%B3%F6%96%7C%B7%BD&range=all&c=news&sort=time\"\n",
    "url_pool = []"
   ]
  },
  {
   "cell_type": "code",
   "execution_count": 67,
   "metadata": {},
   "outputs": [
    {
     "name": "stderr",
     "output_type": "stream",
     "text": [
      "Some characters could not be decoded, and were replaced with REPLACEMENT CHARACTER.\n"
     ]
    },
    {
     "name": "stdout",
     "output_type": "stream",
     "text": [
      "http://finance.sina.com.cn/7x24/2018-05-15/doc-ihapkuvm3471789.shtml\n",
      "http://finance.sina.com.cn/roll/2018-05-15/doc-ihapkuvm3464472.shtml\n",
      "http://finance.sina.com.cn/stock/e/2018-05-15/doc-ihapkuvm1259022.shtml\n",
      "http://finance.sina.com.cn/stock/gujiayidong/2018-05-15/doc-ihapkuvm1142860.shtml\n",
      "http://finance.sina.com.cn/7x24/2018-05-15/doc-ihapkuvm1133812.shtml\n",
      "http://finance.sina.com.cn/stock/s/2018-05-14/doc-ihapkuvk7219676.shtml\n",
      "http://news.sina.com.cn/s/2018-04-06/doc-ifyuwqez5737994.shtml\n",
      "http://news.sina.com.cn/o/2018-04-06/doc-ifyteqtq4755739.shtml\n",
      "http://finance.sina.com.cn/roll/2018-04-02/doc-ifysvmek9044008.shtml\n",
      "http://news.sina.com.cn/o/2018-04-01/doc-ifysuvhq5635843.shtml\n",
      "http://news.sina.com.cn/c/2018-02-27/doc-ifyrvnsw9564706.shtml\n",
      "http://finance.sina.com.cn/chanjing/gsnews/2018-02-24/doc-ifyrvaxe8805396.shtml\n",
      "http://news.sina.com.cn/c/2018-02-21/doc-ifyrrhcu0229253.shtml\n",
      "http://finance.sina.com.cn/roll/2018-02-21/doc-ifyrvaxe8028906.shtml\n",
      "http://news.sina.com.cn/o/2018-02-16/doc-ifyrrhct8501061.shtml\n",
      "http://finance.sina.com.cn/stock/roll/2018-02-16/doc-ifyrpeie9308186.shtml\n",
      "http://news.sina.com.cn/o/2018-02-10/doc-ifyrkzqr1061366.shtml\n",
      "http://news.sina.com.cn/o/2018-02-07/doc-ifyrkrva4306784.shtml\n"
     ]
    }
   ],
   "source": [
    "\n",
    "#Sina 和日出东方有關的資料 > http://search.sina.com.cn/?t=keyword&c=news&q=%C8%D5%B3%F6%B6%AB%B7%BD&col=&range=all&source=&from=&country=&size=&time=&a=&sort=time\n",
    "headers = {'User-Agent':'Mozilla/5.0 (Macintosh; Intel Mac OS X 10_13_4) AppleWebKit/537.36 (KHTML, like Gecko) Chrome/66.0.3359.139 Safari/537.36'}  \n",
    "req=request.Request(interest_url, headers=headers)  \n",
    "html=urlopen(req)  \n",
    "bsObj=BeautifulSoup(html.read(),\"html.parser\")\n",
    "Resultlist1=bsObj.findAll(attrs={'class':'r-info r-info2'}) \n",
    "if None != Resultlist1:  \n",
    "    for list1 in Resultlist1:\n",
    "        url = list1.find('a').get('href')\n",
    "        url_pool.append(str(url))\n",
    "#if None !=Resultlist2:  \n",
    "#    for list2 in Resultlist2:  \n",
    "#        print(list2.get_text())"
   ]
  },
  {
   "cell_type": "code",
   "execution_count": 69,
   "metadata": {},
   "outputs": [
    {
     "data": {
      "text/plain": [
       "18"
      ]
     },
     "execution_count": 69,
     "metadata": {},
     "output_type": "execute_result"
    }
   ],
   "source": [
    "len(url_pool)"
   ]
  },
  {
   "cell_type": "code",
   "execution_count": null,
   "metadata": {},
   "outputs": [],
   "source": []
  }
 ],
 "metadata": {
  "kernelspec": {
   "display_name": "Python 3",
   "language": "python",
   "name": "python3"
  },
  "language_info": {
   "codemirror_mode": {
    "name": "ipython",
    "version": 3
   },
   "file_extension": ".py",
   "mimetype": "text/x-python",
   "name": "python",
   "nbconvert_exporter": "python",
   "pygments_lexer": "ipython3",
   "version": "3.6.4"
  }
 },
 "nbformat": 4,
 "nbformat_minor": 2
}
